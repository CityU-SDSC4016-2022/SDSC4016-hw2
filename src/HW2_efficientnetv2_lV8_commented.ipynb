{
  "metadata": {
    "kernelspec": {
      "language": "python",
      "display_name": "Python 3",
      "name": "python3"
    },
    "language_info": {
      "name": "python",
      "version": "3.7.10",
      "mimetype": "text/x-python",
      "codemirror_mode": {
        "name": "ipython",
        "version": 3
      },
      "pygments_lexer": "ipython3",
      "nbconvert_exporter": "python",
      "file_extension": ".py"
    },
    "colab": {
      "provenance": []
    }
  },
  "nbformat_minor": 0,
  "nbformat": 4,
  "cells": [
    {
      "cell_type": "markdown",
      "source": [
        "# Baseline Code for HW2\n",
        "\n",
        "This is just the baseline code to set up the basic function you need. You need to modify the code yourself to achieve a better result.\n",
        "\n",
        "About the Dataset\n",
        "The dataset used here is food-11, a collection of food images in 11 classes.\n",
        "\n",
        "The data have been slightly modified by the TA. Please DO NOT access the original fully-labeled training data or testing labels."
      ],
      "metadata": {
        "id": "8ce61861"
      }
    },
    {
      "cell_type": "markdown",
      "source": [
        "## Import packages you need"
      ],
      "metadata": {
        "id": "90dcc260"
      }
    },
    {
      "cell_type": "code",
      "source": [
        "# Import necessary packages.\n",
        "import os\n",
        "import copy\n",
        "import torch\n",
        "import torch.nn as nn\n",
        "import torch.optim.lr_scheduler as scheduler\n",
        "import torchvision.transforms as transforms\n",
        "import torchvision\n",
        "from PIL import Image\n",
        "from matplotlib import pyplot as plt\n",
        "# \"ConcatDataset\" and \"Subset\" are possibly useful when doing semi-supervised learning.\n",
        "from torch.utils.data import ConcatDataset, DataLoader, Subset, TensorDataset, Dataset\n",
        "from torchvision.datasets import DatasetFolder\n",
        "\n",
        "# If you haven't download the tqdm package, just uncomment the following line.\n",
        "#!pip install tqdm\n",
        "# This is for the progress bar.\n",
        "from tqdm.auto import tqdm"
      ],
      "metadata": {
        "execution": {
          "iopub.status.busy": "2023-03-11T02:31:11.976322Z",
          "iopub.execute_input": "2023-03-11T02:31:11.976576Z",
          "iopub.status.idle": "2023-03-11T02:31:20.690523Z",
          "shell.execute_reply.started": "2023-03-11T02:31:11.976509Z",
          "shell.execute_reply": "2023-03-11T02:31:20.689796Z"
        },
        "trusted": true,
        "id": "A9EkoU4dgL6p"
      },
      "execution_count": null,
      "outputs": []
    },
    {
      "cell_type": "markdown",
      "source": [
        "##Show current device name\n"
      ],
      "metadata": {
        "id": "gtpo3Y-FYFJm"
      }
    },
    {
      "cell_type": "code",
      "source": [
        "torch.cuda.get_device_name(0)"
      ],
      "metadata": {
        "id": "QOI8gm8wRhvt"
      },
      "execution_count": null,
      "outputs": []
    },
    {
      "cell_type": "markdown",
      "source": [
        "## Dataset, Data Loader, and Transforms\n",
        "Torchvision provides lots of useful utilities for image preprocessing, data wrapping as well as data augmentation.\n",
        "\n",
        "Here, since our data are stored in folders by class labels, we can directly apply torchvision.datasets.DatasetFolder for wrapping data without much effort.\n",
        "\n",
        "Please refer to PyTorch official website for details about different transforms."
      ],
      "metadata": {
        "id": "a92d5876"
      }
    },
    {
      "cell_type": "code",
      "source": [
        "# It is important to do data augmentation in training.\n",
        "# However, not every augmentation is useful.\n",
        "# Please think about what kind of augmentation is helpful for food recognition.\n",
        "train_tfm = transforms.Compose([\n",
        "    # Resize the image into a fixed shape (height = width = 128)\n",
        "    transforms.RandomResizedCrop((128, 128)),\n",
        "    # transforms.RandomCrop(size=128, padding=10),\n",
        "\n",
        "    # Randomly flip the image vertically with the default probability 0.5\n",
        "    transforms.RandomVerticalFlip(),\n",
        "    # Randomly flip the image horizontally with the default probability 0.5\n",
        "    transforms.RandomHorizontalFlip(),\n",
        "    # Randomly invert the colour of the image with the default probability 0.5\n",
        "    transforms.RandomInvert(),\n",
        "    # Randomly adjust the the brightness, contrast, saturation and hue of the image\n",
        "    transforms.ColorJitter((0.875, 1.125), (0.5, 1.5), (0.5, 1.5), (-0.05, 0.05)),\n",
        "    # Randomly affine transformed the image \n",
        "    transforms.RandomAffine(degrees=15, translate=(0.2, 0.2), scale=(0.8, 1.2), shear=(-10, 10, -10, 10)),\n",
        "    # Automated data augmentation\n",
        "    transforms.RandAugment(),\n",
        "    # Convert the image to a tensor\n",
        "    transforms.ToTensor(),\n",
        "])\n",
        "\n",
        "# We don't need augmentations in testing and validation.\n",
        "# All we need here is to resize the PIL image and transform it into Tensor.\n",
        "test_tfm = transforms.Compose([\n",
        "    transforms.Resize((128, 128)),\n",
        "    transforms.ToTensor(),\n",
        "])\n",
        "\n",
        "# Batch size for training, validation, and testing.\n",
        "# A greater batch size usually gives a more stable gradient.\n",
        "# But the GPU memory is limited, so please adjust it carefully.\n",
        "\n",
        "# A batch size of multiples of 8 is chosen \n",
        "batch_size = 48\n",
        "\n",
        "# Construct datasets.\n",
        "# The argument \"loader\" tells how torchvision reads the data.\n",
        "train_set = DatasetFolder(\"../data/training/labeled\", loader=lambda x: Image.open(x), extensions=\"jpg\", transform=train_tfm)\n",
        "valid_set = DatasetFolder(\"../data/validation\", loader=lambda x: Image.open(x), extensions=\"jpg\", transform=test_tfm)\n",
        "unlabeled_set = DatasetFolder(\"../data/training/unlabeled\", loader=lambda x: Image.open(x), extensions=\"jpg\", transform=train_tfm)\n",
        "test_set = DatasetFolder(\"../data/testing\", loader=lambda x: Image.open(x), extensions=\"jpg\", transform=test_tfm)\n",
        "\n",
        "# Construct data loaders.\n",
        "train_loader = DataLoader(train_set, batch_size=batch_size, shuffle=True, num_workers=0, pin_memory=True)\n",
        "valid_loader = DataLoader(valid_set, batch_size=batch_size, shuffle=True, num_workers=0, pin_memory=True)\n",
        "test_loader = DataLoader(test_set, batch_size=batch_size, shuffle=False)"
      ],
      "metadata": {
        "id": "bdmhloXLP4QF"
      },
      "execution_count": null,
      "outputs": []
    },
    {
      "cell_type": "markdown",
      "source": [
        "## Training\n",
        "*   You can finish supervised learning by simply running the provided code without any modification.\n",
        "*   The function \"get_pseudo_labels\" is used for semi-supervised learning. It is expected to get better performance if you use unlabeled data for semi-supervised learning. However, you have to implement the function on your own and need to adjust several hyperparameters manually.\n"
      ],
      "metadata": {
        "id": "470dfe9a"
      }
    },
    {
      "cell_type": "code",
      "source": [
        "class PseudoDataset(Dataset):\n",
        "    def __init__(self, x, y):\n",
        "        self.x = x\n",
        "        self.y = y\n",
        "\n",
        "    def __len__(self):\n",
        "        return len(self.y)\n",
        "\n",
        "    def __getitem__(self, id):\n",
        "        return self.x[id][0], self.y[id]"
      ],
      "metadata": {
        "id": "sZ4vtcrtRvlN"
      },
      "execution_count": null,
      "outputs": []
    },
    {
      "cell_type": "code",
      "source": [
        "def get_pseudo_labels(dataset, model, threshold):\n",
        "    # This functions generates pseudo-label of a dataset using given model.\n",
        "    # It returns an instance of DatasetFolder containing images whose prediction confidences exceed a given threshold.\n",
        "    # You are NOT allowed to use any models trained on external data for pseudo-labeling.\n",
        "    device = \"cuda\" if torch.cuda.is_available() else \"cpu\"\n",
        "\n",
        "    # Construct a data loader.\n",
        "    dataloader = DataLoader(dataset, batch_size=batch_size, shuffle=False, num_workers=0)\n",
        "    # Make sure the model is in eval mode.\n",
        "    model.eval()\n",
        "    # Define softmax function.\n",
        "    softmax = nn.Softmax(dim=-1)\n",
        "\n",
        "    index = []\n",
        "    label = []\n",
        "\n",
        "    for i, batch in enumerate(tqdm(dataloader)):\n",
        "        img, _ = batch\n",
        "\n",
        "        # Forward the data\n",
        "        # Using torch.no_grad() accelerates the forward process.\n",
        "        with torch.no_grad():\n",
        "            logits = model(img.to(device))\n",
        "\n",
        "        # Obtain the probability distributions by applying softmax on logits.\n",
        "        probs = softmax(logits)\n",
        "\n",
        "        # you may filter the data and construct a new dataset here.\n",
        "        for j, x in enumerate(probs):\n",
        "            if torch.max(x) > threshold:\n",
        "                index.append(i * batch_size + j)\n",
        "                label.append(int(torch.argmax(x)))\n",
        "\n",
        "    # Turn off the eval mode.\n",
        "    model.train()\n",
        "    return PseudoDataset(Subset(dataset, index), label)"
      ],
      "metadata": {
        "id": "5700d32f",
        "execution": {
          "iopub.status.busy": "2023-03-11T02:31:26.506129Z",
          "iopub.execute_input": "2023-03-11T02:31:26.506525Z",
          "iopub.status.idle": "2023-03-11T02:31:26.523895Z",
          "shell.execute_reply.started": "2023-03-11T02:31:26.506490Z",
          "shell.execute_reply": "2023-03-11T02:31:26.523235Z"
        },
        "trusted": true
      },
      "execution_count": null,
      "outputs": []
    },
    {
      "cell_type": "code",
      "source": [
        "# Function for saving the model\n",
        "def model_snapshot(model, new_file=None, old_file=None):\n",
        "    if os.path.exists(old_file) is True:\n",
        "        os.remove(old_file)\n",
        "    torch.save(model, new_file)"
      ],
      "metadata": {
        "id": "IQ6ZsF97R1vn"
      },
      "execution_count": null,
      "outputs": []
    },
    {
      "cell_type": "code",
      "source": [
        "def train_model(model, do_semi, cfg, criterion, optimizer, scheduler, train_loader, valid_loader, train_set, unlabeled_set):\n",
        "    history = {\"train_loss\": [], \"val_loss\": [], \"train_acc\": [], \"val_acc\": []}\n",
        "    best_acc = 0.\n",
        "    best_loss = 100.\n",
        "    best_epoch = 0\n",
        "    best_model = None\n",
        "    semi_epoch = 0\n",
        "\n",
        "    for epoch in range(cfg[\"n_epochs\"]):\n",
        "        # ---------- TODO ----------\n",
        "        # In each epoch, relabel the unlabeled dataset for semi-supervised learning.\n",
        "        # Then you can combine the labeled dataset and pseudo-labeled dataset for the training.\n",
        "\n",
        "        # Do semi-supervised learning when accuracy meeting the specified threshold. \n",
        "        if do_semi and best_acc > cfg[\"acc_th\"]:\n",
        "            cfg.update({\"ending_th\": 100})\n",
        "            # Obtain pseudo-labels for unlabeled data using trained model.\n",
        "            pseudo_set = get_pseudo_labels(unlabeled_set, model, cfg[\"pseudo_th\"])\n",
        "\n",
        "            # Construct a new dataset and a data loader for training.\n",
        "            # This is used in semi-supervised learning only.\n",
        "            concat_dataset = ConcatDataset([train_set, pseudo_set])\n",
        "            train_loader = DataLoader(concat_dataset, batch_size=cfg[\"batch_size\"], shuffle=True, num_workers=0, pin_memory=True, drop_last=True)\n",
        "\n",
        "        # ---------- Training ----------\n",
        "        # Make sure the model is in train mode before training.\n",
        "        model.train()\n",
        "\n",
        "        # These are used to record information in training.\n",
        "        train_loss = []\n",
        "        train_accs = []\n",
        "\n",
        "        # Iterate the training set by batches.\n",
        "        for batch in tqdm(train_loader):\n",
        "\n",
        "            # A batch consists of image data and corresponding labels.\n",
        "            imgs, labels = batch\n",
        "\n",
        "            # Forward the data. (Make sure data and model are on the same device.)\n",
        "            logits = model(imgs.to(cfg[\"device\"]))\n",
        "\n",
        "            # Calculate the cross-entropy loss.\n",
        "            # We don't need to apply softmax before computing cross-entropy as it is done automatically.\n",
        "            loss = criterion(logits, labels.to(cfg[\"device\"]))\n",
        "\n",
        "            # Gradients stored in the parameters in the previous step should be cleared out first.\n",
        "            optimizer.zero_grad()\n",
        "\n",
        "            # Compute the gradients for parameters.\n",
        "            loss.backward()\n",
        "\n",
        "            # Clip the gradient norms for stable training.\n",
        "            grad_norm = nn.utils.clip_grad_norm_(model.parameters(), max_norm=10)\n",
        "\n",
        "            # Update the parameters with computed gradients.\n",
        "            optimizer.step()\n",
        "\n",
        "            # Compute the accuracy for current batch.\n",
        "            acc = (logits.argmax(dim=-1) == labels.to(cfg[\"device\"])).float().mean()\n",
        "\n",
        "            # Record the loss and accuracy.\n",
        "            train_loss.append(loss.item())\n",
        "            train_accs.append(acc)\n",
        "\n",
        "        # The average loss and accuracy of the training set is the average of the recorded values.\n",
        "        train_loss = sum(train_loss) / len(train_loss)\n",
        "        train_acc = sum(train_accs) / len(train_accs)\n",
        "\n",
        "        # ---------- Validation ----------\n",
        "        # Make sure the model is in eval mode so that some modules like dropout are disabled and work normally.\n",
        "        model.eval()\n",
        "\n",
        "        # These are used to record information in validation.\n",
        "        valid_loss = []\n",
        "        valid_accs = []\n",
        "\n",
        "        # Iterate the validation set by batches.\n",
        "        for batch in tqdm(valid_loader):\n",
        "\n",
        "            # A batch consists of image data and corresponding labels.\n",
        "            imgs, labels = batch\n",
        "\n",
        "            # We don't need gradient in validation.\n",
        "            # Using torch.no_grad() accelerates the forward process.\n",
        "            with torch.no_grad():\n",
        "                logits = model(imgs.to(cfg[\"device\"]))\n",
        "\n",
        "            # We can still compute the loss (but not the gradient).\n",
        "            loss = criterion(logits, labels.to(cfg[\"device\"]))\n",
        "\n",
        "            # Compute the accuracy for current batch.\n",
        "            acc = (logits.argmax(dim=-1) == labels.to(cfg[\"device\"])).float().mean()\n",
        "\n",
        "            # Record the loss and accuracy.\n",
        "            valid_loss.append(loss.item())\n",
        "            valid_accs.append(acc)\n",
        "\n",
        "            # The average loss and accuracy for entire validation set is the average of the recorded values.\n",
        "        valid_loss = sum(valid_loss) / len(valid_loss)\n",
        "        valid_acc = sum(valid_accs) / len(valid_accs)\n",
        "\n",
        "        # Save the loss and accuracy for each epoch.\n",
        "        history[\"train_loss\"].append(train_loss)\n",
        "        history[\"val_loss\"].append(valid_loss)\n",
        "        history[\"train_acc\"].append(train_acc.cpu())\n",
        "        history[\"val_acc\"].append(valid_acc.cpu())\n",
        "\n",
        "        # Dont ask, this is the only way to round the number for some reason\n",
        "        if float(f\"{valid_acc:.5f}\") >= float(f\"{best_acc:.5f}\") and round(valid_loss, 5) < round(best_loss, 5):\n",
        "            model_snapshot(model.state_dict(), new_file=f\"{epoch + 1}_{valid_acc}.pth\", old_file=f\"{best_epoch + 1}_{best_acc}.pth\")\n",
        "            best_acc = valid_acc\n",
        "            best_loss = valid_loss\n",
        "            best_epoch = epoch\n",
        "            best_model = copy.deepcopy(model)\n",
        "\n",
        "        # Print the information.\n",
        "        print(f\"[Train | {epoch + 1:03d}/{cfg['n_epochs']:03d}] loss = {train_loss:.5f}, acc = {train_acc:.5f}, lr = {optimizer.param_groups[-1]['lr']}\")\n",
        "        print(f\"[Valid | {epoch + 1:03d}/{cfg['n_epochs']:03d}][Best | {best_epoch + 1}] loss = {valid_loss:.5f}[{best_loss:.5f}], acc = {valid_acc:.5f}[{best_acc:.5f}]\")\n",
        "\n",
        "        # Update the scheduler.\n",
        "        if best_acc < cfg[\"acc_th\"]:\n",
        "            semi_epoch = epoch\n",
        "        else:\n",
        "            if epoch >= semi_epoch + 25:\n",
        "                scheduler.step(valid_acc)\n",
        "\n",
        "        if epoch - best_epoch >= cfg[\"ending_th\"]:\n",
        "            break\n",
        "\n",
        "    # Return model and history for later use.\n",
        "    return best_model, history"
      ],
      "metadata": {
        "id": "ezsvNV8NR8WX"
      },
      "execution_count": null,
      "outputs": []
    },
    {
      "cell_type": "code",
      "source": [
        "# Function for concating training and validation history\n",
        "def concat_history(history1: dict, history2: dict):\n",
        "    for key in history1.keys() & history2.keys():\n",
        "        history1[key] = history1[key] + history2[key]"
      ],
      "metadata": {
        "id": "HAtPlbe-SIqG"
      },
      "execution_count": null,
      "outputs": []
    },
    {
      "cell_type": "code",
      "source": [
        "# Function for plotting the training and validation loss\n",
        "def plot_loss(history):\n",
        "    plt.plot([*range(1, len(history[\"train_loss\"]) + 1)], history[\"train_loss\"])\n",
        "    plt.plot([*range(1, len(history[\"val_loss\"]) + 1)], history[\"val_loss\"])\n",
        "    plt.xlabel(\"Epoches\")\n",
        "    plt.ylabel(\"Loss\")\n",
        "    plt.legend(labels=[\"Train\", \"Validation\"])"
      ],
      "metadata": {
        "id": "OD2evPoJSLZ2"
      },
      "execution_count": null,
      "outputs": []
    },
    {
      "cell_type": "code",
      "source": [
        "# Function for plotting the training and accuracy history\n",
        "def plot_acc(history):\n",
        "    plt.plot([*range(1, len(history[\"train_acc\"]) + 1)], history[\"train_acc\"])\n",
        "    plt.plot([*range(1, len(history[\"val_acc\"]) + 1)], history[\"val_acc\"])\n",
        "    plt.xlabel(\"Epoches\")\n",
        "    plt.ylabel(\"Accuracy\")\n",
        "    plt.legend(labels=[\"Train\", \"Validation\"])"
      ],
      "metadata": {
        "id": "TdFi1RacSNdb"
      },
      "execution_count": null,
      "outputs": []
    },
    {
      "cell_type": "code",
      "source": [
        "# \"cuda\" only when GPUs are available.\n",
        "device = \"cuda\" if torch.cuda.is_available() else \"cpu\"\n",
        "\n",
        "# Initialize a model, and put it on the device specified.\n",
        "model = torchvision.models.efficientnet_v2_l(weights=None).to(device)\n",
        "model.device = device\n",
        "\n",
        "# For the classification task, we use cross-entropy as the measurement of performance.\n",
        "criterion = nn.CrossEntropyLoss()\n",
        "\n",
        "# Initialize optimizer, you may fine-tune some hyperparameters such as learning rate on your own.\n",
        "optimizer = torch.optim.Adam(model.parameters(), lr=3e-4, weight_decay=1e-5)\n",
        "\n",
        "# ReduceLROnPlateau scheduler is used to reduce the learning rate by a factor of 0.5 when the metric stops improving for 30 epochs.\n",
        "scheduler = scheduler.ReduceLROnPlateau(optimizer, mode=\"max\", factor=0.5, patience=30, threshold=1e-3, verbose=True)\n",
        "\n",
        "# Save history of accuracy and loss.\n",
        "history = {\"train_loss\": [], \"val_loss\": [], \"train_acc\": [], \"val_acc\": []}\n",
        "cfg = {\"device\": device, \"n_epochs\": 2000, \"batch_size\": batch_size, \"pseudo_th\": 0.90, \"acc_th\": 0.65, \"ending_th\": 100}"
      ],
      "metadata": {
        "id": "pM9Nc1azSQsW"
      },
      "execution_count": null,
      "outputs": []
    },
    {
      "cell_type": "code",
      "source": [
        "bestd_model, train_history = train_model(model, False, cfg, criterion, optimizer, scheduler, train_loader, valid_loader, train_set, unlabeled_set)\n",
        "concat_history(history, train_history)"
      ],
      "metadata": {
        "id": "830rbtH4SShX"
      },
      "execution_count": null,
      "outputs": []
    },
    {
      "cell_type": "code",
      "source": [
        "# Plot training and validation loss\n",
        "plot_loss(history)"
      ],
      "metadata": {
        "id": "JpaqZhfngL60"
      },
      "execution_count": null,
      "outputs": []
    },
    {
      "cell_type": "code",
      "source": [
        "# Plot training and validation accuracy\n",
        "plot_acc(history)"
      ],
      "metadata": {
        "id": "WClLxkewSV-7"
      },
      "execution_count": null,
      "outputs": []
    },
    {
      "cell_type": "markdown",
      "source": [],
      "metadata": {
        "id": "5eRe3-X6gL60"
      }
    },
    {
      "cell_type": "markdown",
      "source": [
        "## Testing\n",
        "For inference, we need to make sure the model is in eval mode, and the order of the dataset should not be shuffled (\"shuffle=False\" in test_loader)."
      ],
      "metadata": {
        "id": "c6e73214"
      }
    },
    {
      "cell_type": "code",
      "source": [
        "# Make sure the model is in eval mode.\n",
        "# Some modules like Dropout or BatchNorm affect if the model is in training mode.\n",
        "bestd_model.eval()\n",
        "\n",
        "# Initialize a list to store the predictions.\n",
        "predictions = []\n",
        "\n",
        "# Iterate the testing set by batches.\n",
        "for batch in tqdm(test_loader):\n",
        "    # A batch consists of image data and corresponding labels.\n",
        "    # But here the variable \"labels\" is useless since we do not have the ground-truth.\n",
        "    # If printing out the labels, you will find that it is always 0.\n",
        "    # This is because the wrapper (DatasetFolder) returns images and labels for each batch,\n",
        "    # so we have to create fake labels to make it work normally.\n",
        "    imgs, labels = batch\n",
        "\n",
        "    # We don't need gradient in testing, and we don't even have labels to compute loss.\n",
        "    # Using torch.no_grad() accelerates the forward process.\n",
        "    with torch.no_grad():\n",
        "        logits = bestd_model(imgs.to(device))\n",
        "\n",
        "    # Take the class with greatest logit as prediction and record it.\n",
        "    predictions.extend(logits.argmax(dim=-1).cpu().numpy().tolist())"
      ],
      "metadata": {
        "id": "aa288a1b",
        "execution": {
          "iopub.status.busy": "2023-03-11T07:33:43.407057Z",
          "iopub.execute_input": "2023-03-11T07:33:43.407481Z",
          "iopub.status.idle": "2023-03-11T07:34:32.447957Z",
          "shell.execute_reply.started": "2023-03-11T07:33:43.407444Z",
          "shell.execute_reply": "2023-03-11T07:34:32.447205Z"
        },
        "trusted": true
      },
      "execution_count": null,
      "outputs": []
    },
    {
      "cell_type": "code",
      "source": [
        "# Save predictions into the file.\n",
        "with open(\"predict.csv\", \"w\") as f:\n",
        "\n",
        "    # The first row must be \"Id, Category\"\n",
        "    f.write(\"Id,Category\\n\")\n",
        "\n",
        "    # For the rest of the rows, each image id corresponds to a predicted class.\n",
        "    for i, pred in enumerate(predictions):\n",
        "        f.write(f\"{i},{pred}\\n\")"
      ],
      "metadata": {
        "id": "92607fcd",
        "execution": {
          "iopub.status.busy": "2023-03-11T07:34:32.449847Z",
          "iopub.execute_input": "2023-03-11T07:34:32.450269Z",
          "iopub.status.idle": "2023-03-11T07:34:32.458033Z",
          "shell.execute_reply.started": "2023-03-11T07:34:32.450232Z",
          "shell.execute_reply": "2023-03-11T07:34:32.457355Z"
        },
        "trusted": true
      },
      "execution_count": null,
      "outputs": []
    }
  ]
}
